{
 "cells": [
  {
   "cell_type": "markdown",
   "metadata": {},
   "source": [
    "We have 10 different csv files for each year, which makes analysis of this data difficult. Therefore, I decided to combine all of them and make a single dataset containing US countys' average weekly temperature from 2013 till 2023"
   ]
  },
  {
   "cell_type": "code",
   "execution_count": 14,
   "metadata": {},
   "outputs": [],
   "source": [
    "# importing libraries\n",
    "import pandas as pd\n",
    "import os\n",
    "import glob"
   ]
  },
  {
   "cell_type": "code",
   "execution_count": 39,
   "metadata": {},
   "outputs": [],
   "source": [
    "# List of CSV files to read\n",
    "csv_files = sorted(glob.glob('weeklyTemp\\*.csv'))  # Adjust the path to your CSV files\n"
   ]
  },
  {
   "cell_type": "code",
   "execution_count": 40,
   "metadata": {},
   "outputs": [],
   "source": [
    "# Initialize an empty list to hold the dataframes\n",
    "dfs = []"
   ]
  },
  {
   "cell_type": "code",
   "execution_count": 41,
   "metadata": {},
   "outputs": [],
   "source": [
    "# Loop over each file and process it\n",
    "for file in csv_files:\n",
    "    # Extract the year from the filename (assuming the year is in the filename)\n",
    "    year = file.split('_')[-1].split('.')[0]\n",
    "    \n",
    "    # Read the CSV file\n",
    "    df = pd.read_csv(file)\n",
    "    \n",
    "    # Pivot the dataframe\n",
    "    df_pivot = df.pivot_table(index=['county_name', 'state_id'], \n",
    "                              columns='week', \n",
    "                              values='mean_temperature', \n",
    "                              aggfunc='mean')\n",
    "    \n",
    "    # Flatten the columns\n",
    "    df_pivot.columns = [f\"Week {int(week)} ({year})\" for week in df_pivot.columns]\n",
    "    \n",
    "    # Reset index to get county_name and state_id as columns\n",
    "    df_pivot = df_pivot.reset_index()\n",
    "    \n",
    "    # Append to the list of dataframes\n",
    "    dfs.append(df_pivot)\n"
   ]
  },
  {
   "cell_type": "code",
   "execution_count": 42,
   "metadata": {},
   "outputs": [
    {
     "name": "stdout",
     "output_type": "stream",
     "text": [
      "['weeklyTemp\\\\US_County_Weekly_Temperature_2013.csv', 'weeklyTemp\\\\US_County_Weekly_Temperature_2014.csv', 'weeklyTemp\\\\US_County_Weekly_Temperature_2015.csv', 'weeklyTemp\\\\US_County_Weekly_Temperature_2016.csv', 'weeklyTemp\\\\US_County_Weekly_Temperature_2017.csv', 'weeklyTemp\\\\US_County_Weekly_Temperature_2018.csv', 'weeklyTemp\\\\US_County_Weekly_Temperature_2019.csv', 'weeklyTemp\\\\US_County_Weekly_Temperature_2020.csv', 'weeklyTemp\\\\US_County_Weekly_Temperature_2021.csv', 'weeklyTemp\\\\US_County_Weekly_Temperature_2022.csv', 'weeklyTemp\\\\US_County_Weekly_Temperature_2023.csv']\n"
     ]
    }
   ],
   "source": [
    "\n",
    "print(csv_files)  # This should print a list of all the CSV files found\n"
   ]
  },
  {
   "cell_type": "code",
   "execution_count": 43,
   "metadata": {},
   "outputs": [
    {
     "name": "stdout",
     "output_type": "stream",
     "text": [
      "Processing file: weeklyTemp\\US_County_Weekly_Temperature_2013.csv\n",
      "Processing file: weeklyTemp\\US_County_Weekly_Temperature_2014.csv\n",
      "Processing file: weeklyTemp\\US_County_Weekly_Temperature_2015.csv\n",
      "Processing file: weeklyTemp\\US_County_Weekly_Temperature_2016.csv\n",
      "Processing file: weeklyTemp\\US_County_Weekly_Temperature_2017.csv\n",
      "Processing file: weeklyTemp\\US_County_Weekly_Temperature_2018.csv\n",
      "Processing file: weeklyTemp\\US_County_Weekly_Temperature_2019.csv\n",
      "Processing file: weeklyTemp\\US_County_Weekly_Temperature_2020.csv\n",
      "Processing file: weeklyTemp\\US_County_Weekly_Temperature_2021.csv\n",
      "Processing file: weeklyTemp\\US_County_Weekly_Temperature_2022.csv\n",
      "Processing file: weeklyTemp\\US_County_Weekly_Temperature_2023.csv\n"
     ]
    }
   ],
   "source": [
    "for file in csv_files:\n",
    "    print(f\"Processing file: {file}\")"
   ]
  },
  {
   "cell_type": "code",
   "execution_count": 44,
   "metadata": {},
   "outputs": [],
   "source": [
    "# Merge all dataframes on county_name and state_id\n",
    "final_df = dfs[0]\n",
    "for df in dfs[1:]:\n",
    "    final_df = pd.merge(final_df, df, on=['county_name', 'state_id'], how='outer')"
   ]
  },
  {
   "cell_type": "code",
   "execution_count": 46,
   "metadata": {},
   "outputs": [
    {
     "name": "stdout",
     "output_type": "stream",
     "text": [
      "The data has been successfully consolidated and saved.\n"
     ]
    }
   ],
   "source": [
    "\n",
    "# Save the final dataframe to a CSV file\n",
    "final_df.to_csv('final_temperature_data.csv', index=False)\n",
    "\n",
    "print(\"The data has been successfully consolidated and saved.\")"
   ]
  },
  {
   "cell_type": "markdown",
   "metadata": {},
   "source": [
    "now we have combined all 10 csv file containing weekly temperature of US countys in one single CSV file and we can start analyzing it."
   ]
  },
  {
   "cell_type": "markdown",
   "metadata": {},
   "source": []
  }
 ],
 "metadata": {
  "kernelspec": {
   "display_name": "geospatialEnv",
   "language": "python",
   "name": "python3"
  },
  "language_info": {
   "codemirror_mode": {
    "name": "ipython",
    "version": 3
   },
   "file_extension": ".py",
   "mimetype": "text/x-python",
   "name": "python",
   "nbconvert_exporter": "python",
   "pygments_lexer": "ipython3",
   "version": "3.9.19"
  }
 },
 "nbformat": 4,
 "nbformat_minor": 2
}
